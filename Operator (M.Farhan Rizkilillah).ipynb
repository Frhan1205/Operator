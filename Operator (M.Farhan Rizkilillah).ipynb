{
 "cells": [
  {
   "cell_type": "markdown",
   "id": "7b4f3ab0",
   "metadata": {},
   "source": [
    "1. Operator Aritmatika"
   ]
  },
  {
   "cell_type": "code",
   "execution_count": 14,
   "id": "69396716",
   "metadata": {},
   "outputs": [
    {
     "name": "stdout",
     "output_type": "stream",
     "text": [
      "13\n",
      "7\n",
      "30\n",
      "3.3333333333333335\n",
      "3\n",
      "1000\n",
      "1\n"
     ]
    }
   ],
   "source": [
    "num1 = 10\n",
    "num2 = 3\n",
    "\n",
    "jumlah = num1 + num2\n",
    "kurang = num1 - num2\n",
    "kali = num1 * num2\n",
    "bagi = num1 / num2\n",
    "bagi_bulat = num1 // num2\n",
    "pangkat = num1 ** num2\n",
    "modulus = num1 % num2\n",
    "\n",
    "print(jumlah)\n",
    "print(kurang)\n",
    "print(kali)\n",
    "print(bagi)\n",
    "print(bagi_bulat)\n",
    "print(pangkat)\n",
    "print(modulus)\n"
   ]
  },
  {
   "cell_type": "markdown",
   "id": "add13948",
   "metadata": {},
   "source": [
    "2. Operator Assigment"
   ]
  },
  {
   "cell_type": "code",
   "execution_count": 37,
   "id": "480cfefc",
   "metadata": {},
   "outputs": [
    {
     "name": "stdout",
     "output_type": "stream",
     "text": [
      "15\n",
      "11\n",
      "22\n",
      "7.333333333333333\n",
      "3.0\n",
      "27.0\n",
      "1.0\n"
     ]
    }
   ],
   "source": [
    "x = 5 #assigment operator\n",
    "x +=10 # x = x + 10 => 15\n",
    "print(x)\n",
    "x -=4 # x = x -4 => 11\n",
    "print(x)\n",
    "x *=2 # x = x * 2 => 22\n",
    "print(x)\n",
    "x /=3 # x = x / 3 => 7.....\n",
    "print(x)\n",
    "x //=2 # x = x //2 => 3.0\n",
    "print(x)\n",
    "x **=3 # x = x ** => 27\n",
    "print(x)\n",
    "x %=2 # x = x %2 => 1\n",
    "print(x)\n",
    "\n",
    "data =[1,2,3,4,5,]\n",
    "total = 0\n",
    "\n",
    "for in range (0,5):\n",
    "    total  += data[i]\n",
    "print(\"Total :\" , total)"
   ]
  },
  {
   "cell_type": "markdown",
   "id": "602ac2e0",
   "metadata": {},
   "source": [
    "3. Operator Perbandingan"
   ]
  },
  {
   "cell_type": "code",
   "execution_count": 27,
   "id": "5dff7dde",
   "metadata": {},
   "outputs": [
    {
     "name": "stdout",
     "output_type": "stream",
     "text": [
      "False\n",
      "True\n",
      "True\n",
      "False\n",
      "True\n",
      "False\n"
     ]
    }
   ],
   "source": [
    "bil1 = 8\n",
    "bil2 = 7\n",
    "\n",
    "is_equal = bil1 == bil2\n",
    "is_not_equal = bil1 !=bil2\n",
    "is_greater_than = bil1 > bil2\n",
    "is_less_than = bil1 < bil2\n",
    "is_greater_equal = bil1 >= bil2\n",
    "is_less_than_equal = bil1 <= bil2\n",
    "\n",
    "print(is_equal)\n",
    "print(is_not_equal)\n",
    "print(is_greater_than)\n",
    "print(is_less_than)\n",
    "print(is_greater_equal)\n",
    "print(is_less_than_equal)"
   ]
  },
  {
   "cell_type": "markdown",
   "id": "8ad58ec9",
   "metadata": {},
   "source": [
    "4. Operator Logika"
   ]
  },
  {
   "cell_type": "code",
   "execution_count": 33,
   "id": "250990ff",
   "metadata": {},
   "outputs": [
    {
     "name": "stdout",
     "output_type": "stream",
     "text": [
      "True\n",
      "False\n",
      "True\n"
     ]
    }
   ],
   "source": [
    "var1 = 4\n",
    "var2 = 10\n",
    "opr_and = var1 < var2 and var1 <=4 #True\n",
    "opr_or = var1 > var2 or var1 % 2==1 #False\n",
    "opr_not = not opr_or\n",
    "print(opr_and)\n",
    "print(opr_or)\n",
    "print(opr_and)"
   ]
  },
  {
   "cell_type": "markdown",
   "id": "10eff6d8",
   "metadata": {},
   "source": [
    "5. Operator Identitas"
   ]
  },
  {
   "cell_type": "code",
   "execution_count": 45,
   "id": "79996cc2",
   "metadata": {},
   "outputs": [
    {
     "name": "stdout",
     "output_type": "stream",
     "text": [
      "True\n",
      "False\n",
      "False\n",
      "True\n",
      "True\n",
      "False\n"
     ]
    }
   ],
   "source": [
    "fruits =[\"Apple\",\"Mangoes\",\"Watermelon\"]\n",
    "my_favorite_fruits = fruits\n",
    "your_fruits = [\"Apple\",\"Mangoes\",\"Watermelon\"]\n",
    "\n",
    "print(fruits is my_favorite_fruits)\n",
    "print(fruits is your_fruits)\n",
    "print(fruits is not my_favorite_fruits)\n",
    "print(fruits is not your_fruits)\n",
    "\n",
    "a = 5\n",
    "b = 5 #python menggunakan metode hasing dalam memberikan nilai variabel\n",
    "print(a is b)\n",
    "print(a is not b)"
   ]
  },
  {
   "cell_type": "markdown",
   "id": "844fb649",
   "metadata": {},
   "source": [
    "6. Operator Keanggotaan"
   ]
  },
  {
   "cell_type": "code",
   "execution_count": 50,
   "id": "b502511d",
   "metadata": {},
   "outputs": [
    {
     "name": "stdout",
     "output_type": "stream",
     "text": [
      "True\n",
      "False\n",
      "False\n",
      "True\n"
     ]
    }
   ],
   "source": [
    "student_names = [\"Farhan\",\"Marwan\",\"Salman\"]\n",
    "print(\"Marwan\" in student_names)\n",
    "print(\"Farhan\" not in student_names)\n",
    "print(\"Sule\" in student_names)\n",
    "print(\"Sule\" not in student_names)"
   ]
  },
  {
   "cell_type": "markdown",
   "id": "da077296",
   "metadata": {},
   "source": [
    "7. Operator Bitwise"
   ]
  },
  {
   "cell_type": "code",
   "execution_count": 59,
   "id": "91e1b7db",
   "metadata": {},
   "outputs": [
    {
     "name": "stdout",
     "output_type": "stream",
     "text": [
      "15\n",
      "255\n",
      "240\n"
     ]
    }
   ],
   "source": [
    "nilai_and = 255 & 15\n",
    "nilai_or = 255 | 15\n",
    "nilai_xor = 255 ^ 15\n",
    "#11111111 \n",
    "#00001111\n",
    "#---------- and\n",
    "#00001111 =>15\n",
    "print(nilai_and)\n",
    "print(nilai_or)\n",
    "print(nilai_xor)"
   ]
  }
 ],
 "metadata": {
  "kernelspec": {
   "display_name": "Python 3 (ipykernel)",
   "language": "python",
   "name": "python3"
  },
  "language_info": {
   "codemirror_mode": {
    "name": "ipython",
    "version": 3
   },
   "file_extension": ".py",
   "mimetype": "text/x-python",
   "name": "python",
   "nbconvert_exporter": "python",
   "pygments_lexer": "ipython3",
   "version": "3.9.12"
  }
 },
 "nbformat": 4,
 "nbformat_minor": 5
}
